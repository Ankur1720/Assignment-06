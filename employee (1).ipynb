{
 "cells": [
  {
   "cell_type": "code",
   "execution_count": null,
   "id": "86bb0699",
   "metadata": {},
   "outputs": [],
   "source": [
    "import json\n",
    "\n",
    "class Employees:\n",
    "    def __init__(self,name,dob,height,city,state):\n",
    "        self.name = name\n",
    "        self.dob = dob\n",
    "        self.height = height\n",
    "        self.city = city\n",
    "        self.state = state\n",
    "\n",
    "# Open a json file\n",
    "with open('employee.json.ipynb','r') as file :\n",
    "    data = json.load(file)\n",
    "    \n",
    "# Create a list of Employee object from the dict\n",
    "employees = [Employees(e['Name'], e['DOB'], e['Height'], e['City'] , e['State']) for e in data['Employees']]\n",
    "\n",
    "# Printing the list\n",
    "for employee in employees:\n",
    "    print(employee.name, employee.dob, employee.height, employee.city, employee.state)"
   ]
  },
  {
   "cell_type": "code",
   "execution_count": null,
   "id": "41ccc04c",
   "metadata": {},
   "outputs": [],
   "source": []
  }
 ],
 "metadata": {
  "kernelspec": {
   "display_name": "Python 3 (ipykernel)",
   "language": "python",
   "name": "python3"
  },
  "language_info": {
   "codemirror_mode": {
    "name": "ipython",
    "version": 3
   },
   "file_extension": ".py",
   "mimetype": "text/x-python",
   "name": "python",
   "nbconvert_exporter": "python",
   "pygments_lexer": "ipython3",
   "version": "3.11.0"
  }
 },
 "nbformat": 4,
 "nbformat_minor": 5
}
