{
 "cells": [
  {
   "cell_type": "code",
   "execution_count": 1,
   "id": "2e9a84d5",
   "metadata": {},
   "outputs": [],
   "source": [
    "import json\n",
    "\n",
    "# Data to be written\n",
    "State_Capital ={\n",
    "\"Bihar\": \"Patna\",\"Goa\": \"Panaji\",\"Chattisghar\": \"Naya Raipur\",\"Madhya Pradesh\": \"Bhopal\",\"West Bengal\" : \"Kolkata\",\"Maharastra\" : \"Mumbai\",\"Gujrat\" : \"Gandhinagar\"\n",
    "}\n",
    "#  Writing it in the JSONs file\n",
    "file = open(r\"state.json\",\"w\")\n",
    "json_object = json.dump(State_Capital,file)"
   ]
  },
  {
   "cell_type": "code",
   "execution_count": null,
   "id": "5bf6834b",
   "metadata": {},
   "outputs": [],
   "source": []
  }
 ],
 "metadata": {
  "kernelspec": {
   "display_name": "Python 3 (ipykernel)",
   "language": "python",
   "name": "python3"
  },
  "language_info": {
   "codemirror_mode": {
    "name": "ipython",
    "version": 3
   },
   "file_extension": ".py",
   "mimetype": "text/x-python",
   "name": "python",
   "nbconvert_exporter": "python",
   "pygments_lexer": "ipython3",
   "version": "3.11.0"
  }
 },
 "nbformat": 4,
 "nbformat_minor": 5
}
