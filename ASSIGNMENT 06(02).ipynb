{
 "cells": [
  {
   "cell_type": "code",
   "execution_count": 3,
   "id": "d1cdf5ff",
   "metadata": {},
   "outputs": [
    {
     "name": "stdout",
     "output_type": "stream",
     "text": [
      "Name : whishky \n",
      "Age : 2\n",
      "Coat Colour : golden\n",
      "Owner : ANKUR\n",
      "Name : whishky \n",
      "Age : 2\n",
      "Coat Colour : golden\n",
      "Nick name : whishkuuu\n"
     ]
    }
   ],
   "source": [
    "class Dog:\n",
    "    def __init__(self,name,age,coat_colour):\n",
    "        self.name = name\n",
    "        self.age =age\n",
    "        self.coat_colour = coat_colour\n",
    "    \n",
    "    def description(self):\n",
    "        print(f\"Name : {self.name} \\nAge : {self.age}\")\n",
    "\n",
    "    def get_info(self):\n",
    "        print(f\"Coat Colour : {self.coat_colour}\")\n",
    "\n",
    "class JackRussellTerrier(Dog):\n",
    "    def __init__(self,name,age,coat_colour,owner):\n",
    "        super().__init__(name,age,coat_colour)\n",
    "        self.owner =owner\n",
    "    \n",
    "    def display(self):\n",
    "        print(f\"Owner : {self.owner}\")\n",
    "\n",
    "class Bulldog(Dog):\n",
    "    def __init__(self,name,age,coat_colour,nickname):\n",
    "        super().__init__(name,age,coat_colour)\n",
    "        \n",
    "        self.nickname = nickname\n",
    "\n",
    "    def view(self):\n",
    "        print(f\"Nick name : {self.nickname}\")\n",
    "\n",
    "\n",
    "jackRussellTerrier = JackRussellTerrier(\"whishky\",2,\"golden\",\"ANKUR\")\n",
    "jackRussellTerrier.description()\n",
    "jackRussellTerrier.get_info()\n",
    "jackRussellTerrier.display()\n",
    "\n",
    "bull = Bulldog(\"whishky\",2,\"golden\",\"whishkuuu\")\n",
    "bull.description()\n",
    "bull.get_info()\n",
    "bull.view()"
   ]
  },
  {
   "cell_type": "code",
   "execution_count": null,
   "id": "f8e6825e",
   "metadata": {},
   "outputs": [],
   "source": []
  }
 ],
 "metadata": {
  "kernelspec": {
   "display_name": "Python 3 (ipykernel)",
   "language": "python",
   "name": "python3"
  },
  "language_info": {
   "codemirror_mode": {
    "name": "ipython",
    "version": 3
   },
   "file_extension": ".py",
   "mimetype": "text/x-python",
   "name": "python",
   "nbconvert_exporter": "python",
   "pygments_lexer": "ipython3",
   "version": "3.11.0"
  }
 },
 "nbformat": 4,
 "nbformat_minor": 5
}
