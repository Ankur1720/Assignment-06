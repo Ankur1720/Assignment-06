{
 "cells": [
  {
   "cell_type": "code",
   "execution_count": 2,
   "id": "c226f9f5",
   "metadata": {},
   "outputs": [
    {
     "data": {
      "text/plain": [
       "{'Employees': [{'Name': 'ANKUR',\n",
       "   'DOB': '04/11/2001',\n",
       "   'Height': '5.5 Feet',\n",
       "   'City': 'Raigarh',\n",
       "   'State': 'Chattisghar'},\n",
       "  {'Name': 'SHIVA',\n",
       "   'DOB': '03/09/2002',\n",
       "   'Height': '5 Feet',\n",
       "   'City': 'Pune',\n",
       "   'State': 'Maharashtra'},\n",
       "  {'Name': 'VIKRAM ADITYA',\n",
       "   'DOB': '12/12/2001',\n",
       "   'Height': '5.8 Feet',\n",
       "   'City': 'Kolkata',\n",
       "   'State': 'West Bengal'},\n",
       "  {'Name': 'ASHOKA',\n",
       "   'DOB': '31/05/2003',\n",
       "   'Height': '5.1 Feet',\n",
       "   'City': 'Mumbai',\n",
       "   'State': 'Maharashtra'},\n",
       "  {'Name': 'MAHARANA PRATAP',\n",
       "   'DOB': '03/04/2008',\n",
       "   'Height': '4.11 Feet',\n",
       "   'City': 'Delhi',\n",
       "   'State': 'Delhi NCR'}]}"
      ]
     },
     "execution_count": 2,
     "metadata": {},
     "output_type": "execute_result"
    }
   ],
   "source": [
    "{\n",
    "    \"Employees\": [\n",
    "        {\n",
    "            \"Name\": \"ANKUR\",\n",
    "            \"DOB\": \"04/11/2001\",\n",
    "            \"Height\": \"5.5 Feet\",\n",
    "            \"City\" : \"Raigarh\",\n",
    "            \"State\" : \"Chattisghar\"\n",
    "  \n",
    "  \n",
    "          },\n",
    "          {\n",
    "              \"Name\": \"SHIVA\",\n",
    "              \"DOB\": \"03/09/2002\",\n",
    "              \"Height\": \"5 Feet\",\n",
    "              \"City\" : \"Pune\",\n",
    "              \"State\" : \"Maharashtra\"\n",
    "          },\n",
    "          {\n",
    "              \"Name\": \"VIKRAM ADITYA\",\n",
    "              \"DOB\": \"12/12/2001\",\n",
    "              \"Height\": \"5.8 Feet\",\n",
    "              \"City\" : \"Kolkata\",\n",
    "              \"State\" : \"West Bengal\"\n",
    "          },\n",
    "          {\n",
    "              \"Name\": \"ASHOKA\",\n",
    "              \"DOB\": \"31/05/2003\",\n",
    "              \"Height\": \"5.1 Feet\",\n",
    "              \"City\" : \"Mumbai\",\n",
    "              \"State\" : \"Maharashtra\"\n",
    "          },\n",
    "          {\n",
    "              \"Name\": \"MAHARANA PRATAP\",\n",
    "              \"DOB\": \"03/04/2008\",\n",
    "              \"Height\": \"4.11 Feet\",\n",
    "              \"City\" : \"Delhi\",\n",
    "              \"State\" : \"Delhi NCR\"\n",
    "          }\n",
    "    ]\n",
    "}"
   ]
  },
  {
   "cell_type": "code",
   "execution_count": null,
   "id": "e4e58c88",
   "metadata": {},
   "outputs": [],
   "source": []
  }
 ],
 "metadata": {
  "kernelspec": {
   "display_name": "Python 3 (ipykernel)",
   "language": "python",
   "name": "python3"
  },
  "language_info": {
   "codemirror_mode": {
    "name": "ipython",
    "version": 3
   },
   "file_extension": ".py",
   "mimetype": "text/x-python",
   "name": "python",
   "nbconvert_exporter": "python",
   "pygments_lexer": "ipython3",
   "version": "3.11.0"
  }
 },
 "nbformat": 4,
 "nbformat_minor": 5
}
